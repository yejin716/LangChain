{
  "nbformat": 4,
  "nbformat_minor": 0,
  "metadata": {
    "colab": {
      "provenance": []
    },
    "kernelspec": {
      "name": "python3",
      "display_name": "Python 3"
    },
    "language_info": {
      "name": "python"
    }
  },
  "cells": [
    {
      "cell_type": "code",
      "execution_count": 1,
      "metadata": {
        "colab": {
          "base_uri": "https://localhost:8080/"
        },
        "id": "SdPeQXmrUTsF",
        "outputId": "2a4f5b81-ec70-41d3-a60f-679605cf8ad1"
      },
      "outputs": [
        {
          "output_type": "stream",
          "name": "stdout",
          "text": [
            "Collecting openai\n",
            "  Downloading openai-1.37.1-py3-none-any.whl.metadata (22 kB)\n",
            "Requirement already satisfied: anyio<5,>=3.5.0 in /usr/local/lib/python3.10/dist-packages (from openai) (3.7.1)\n",
            "Requirement already satisfied: distro<2,>=1.7.0 in /usr/lib/python3/dist-packages (from openai) (1.7.0)\n",
            "Collecting httpx<1,>=0.23.0 (from openai)\n",
            "  Downloading httpx-0.27.0-py3-none-any.whl.metadata (7.2 kB)\n",
            "Requirement already satisfied: pydantic<3,>=1.9.0 in /usr/local/lib/python3.10/dist-packages (from openai) (2.8.2)\n",
            "Requirement already satisfied: sniffio in /usr/local/lib/python3.10/dist-packages (from openai) (1.3.1)\n",
            "Requirement already satisfied: tqdm>4 in /usr/local/lib/python3.10/dist-packages (from openai) (4.66.4)\n",
            "Requirement already satisfied: typing-extensions<5,>=4.7 in /usr/local/lib/python3.10/dist-packages (from openai) (4.12.2)\n",
            "Requirement already satisfied: idna>=2.8 in /usr/local/lib/python3.10/dist-packages (from anyio<5,>=3.5.0->openai) (3.7)\n",
            "Requirement already satisfied: exceptiongroup in /usr/local/lib/python3.10/dist-packages (from anyio<5,>=3.5.0->openai) (1.2.2)\n",
            "Requirement already satisfied: certifi in /usr/local/lib/python3.10/dist-packages (from httpx<1,>=0.23.0->openai) (2024.7.4)\n",
            "Collecting httpcore==1.* (from httpx<1,>=0.23.0->openai)\n",
            "  Downloading httpcore-1.0.5-py3-none-any.whl.metadata (20 kB)\n",
            "Collecting h11<0.15,>=0.13 (from httpcore==1.*->httpx<1,>=0.23.0->openai)\n",
            "  Downloading h11-0.14.0-py3-none-any.whl.metadata (8.2 kB)\n",
            "Requirement already satisfied: annotated-types>=0.4.0 in /usr/local/lib/python3.10/dist-packages (from pydantic<3,>=1.9.0->openai) (0.7.0)\n",
            "Requirement already satisfied: pydantic-core==2.20.1 in /usr/local/lib/python3.10/dist-packages (from pydantic<3,>=1.9.0->openai) (2.20.1)\n",
            "Downloading openai-1.37.1-py3-none-any.whl (337 kB)\n",
            "\u001b[2K   \u001b[90m━━━━━━━━━━━━━━━━━━━━━━━━━━━━━━━━━━━━━━━━\u001b[0m \u001b[32m337.0/337.0 kB\u001b[0m \u001b[31m17.9 MB/s\u001b[0m eta \u001b[36m0:00:00\u001b[0m\n",
            "\u001b[?25hDownloading httpx-0.27.0-py3-none-any.whl (75 kB)\n",
            "\u001b[2K   \u001b[90m━━━━━━━━━━━━━━━━━━━━━━━━━━━━━━━━━━━━━━━━\u001b[0m \u001b[32m75.6/75.6 kB\u001b[0m \u001b[31m5.2 MB/s\u001b[0m eta \u001b[36m0:00:00\u001b[0m\n",
            "\u001b[?25hDownloading httpcore-1.0.5-py3-none-any.whl (77 kB)\n",
            "\u001b[2K   \u001b[90m━━━━━━━━━━━━━━━━━━━━━━━━━━━━━━━━━━━━━━━━\u001b[0m \u001b[32m77.9/77.9 kB\u001b[0m \u001b[31m4.9 MB/s\u001b[0m eta \u001b[36m0:00:00\u001b[0m\n",
            "\u001b[?25hDownloading h11-0.14.0-py3-none-any.whl (58 kB)\n",
            "\u001b[2K   \u001b[90m━━━━━━━━━━━━━━━━━━━━━━━━━━━━━━━━━━━━━━━━\u001b[0m \u001b[32m58.3/58.3 kB\u001b[0m \u001b[31m4.4 MB/s\u001b[0m eta \u001b[36m0:00:00\u001b[0m\n",
            "\u001b[?25hInstalling collected packages: h11, httpcore, httpx, openai\n",
            "Successfully installed h11-0.14.0 httpcore-1.0.5 httpx-0.27.0 openai-1.37.1\n"
          ]
        }
      ],
      "source": [
        "!pip install openai"
      ]
    },
    {
      "cell_type": "code",
      "source": [
        "from google.colab import userdata\n",
        "import os\n",
        "import openai\n",
        "\n",
        "os.environ[\"OPENAI_API_KEY\"] = userdata.get('')\n",
        "client = openai.OpenAI()"
      ],
      "metadata": {
        "id": "6mIa2KPyUYaD"
      },
      "execution_count": 2,
      "outputs": []
    },
    {
      "cell_type": "code",
      "source": [
        "from string import Template"
      ],
      "metadata": {
        "id": "Nq4ZZfI4Ued_"
      },
      "execution_count": 3,
      "outputs": []
    },
    {
      "cell_type": "code",
      "source": [
        "prompt = Template('''\n",
        "다음은 사용자가 작성한 헤드라인 제목입니다.\n",
        "비속어를 제거하여 제목을 다시 작성해 주세요.\n",
        "제목의 의미는 유지하도록 해주세요.\n",
        "비속어가 없을 경우에는 제목을 그대로 사용합니다.\n",
        "\n",
        "$headline\n",
        "\n",
        "\n",
        "''')"
      ],
      "metadata": {
        "id": "9N1pBYs7Uecf"
      },
      "execution_count": 4,
      "outputs": []
    },
    {
      "cell_type": "code",
      "source": [
        "headline = \"벗꽃이 한참인 여의도 한강공원에 남사스럽게 입을 갖다대는 저 년놈들이 그득그득\""
      ],
      "metadata": {
        "id": "NYG-0GBxUeaY"
      },
      "execution_count": 5,
      "outputs": []
    },
    {
      "cell_type": "code",
      "source": [
        "completion = client.chat.completions.create(\n",
        "    model= \"gpt-3.5-turbo\",\n",
        "    messages = [\n",
        "        {\"role\" : \"user\", \"content\" : prompt.substitute(headline=headline)}\n",
        "    ],\n",
        "    max_tokens = 256,\n",
        "    temperature = 1.5\n",
        ")"
      ],
      "metadata": {
        "id": "l6Fxnmy1UeYn"
      },
      "execution_count": 6,
      "outputs": []
    },
    {
      "cell_type": "code",
      "source": [
        "completion.choices[0].message.content"
      ],
      "metadata": {
        "colab": {
          "base_uri": "https://localhost:8080/",
          "height": 35
        },
        "id": "DG1I5ipDU0eA",
        "outputId": "2f34d25b-dd0b-4d46-e5d4-1ddcbddbbb15"
      },
      "execution_count": 7,
      "outputs": [
        {
          "output_type": "execute_result",
          "data": {
            "text/plain": [
              "'벗꽃 한참인 여의도 한강공원에서 모욕적인 행동하는 사람들이 무아지경하게 많다'"
            ],
            "application/vnd.google.colaboratory.intrinsic+json": {
              "type": "string"
            }
          },
          "metadata": {},
          "execution_count": 7
        }
      ]
    },
    {
      "cell_type": "code",
      "source": [
        "def refine(headline, temperature=1, max_tokens=256):\n",
        "    prompt = Template('''\n",
        "    다음은 사용자가 작성한 헤드라인 제목입니다.\n",
        "    비속어를 제거하여 제목을 다시 작성해 주세요.\n",
        "    제목의 의미는 유지하도록 해주세요.\n",
        "    비속어가 없을 경우에는 제목을 그대로 사용합니다.\n",
        "\n",
        "    $headline\n",
        "\n",
        "\n",
        "    ''')\n",
        "    completion = client.chat.completions.create(\n",
        "    model = \"gpt-3.5-turbo\",\n",
        "    messages=[\n",
        "        {'role': 'user', 'content': prompt.substitute(headline=headline)}\n",
        "    ],\n",
        "    max_tokens = max_tokens,\n",
        "    temperature=temperature\n",
        ")\n",
        "    return completion.choices[0].message.content"
      ],
      "metadata": {
        "id": "BTq9oAtHU2Fw"
      },
      "execution_count": 8,
      "outputs": []
    },
    {
      "cell_type": "code",
      "source": [
        "msg = refine(headline)\n",
        "msg"
      ],
      "metadata": {
        "colab": {
          "base_uri": "https://localhost:8080/",
          "height": 35
        },
        "id": "jAyzw0XbU4I5",
        "outputId": "8aaf88c0-2d68-4819-bb2b-99dc05bbd730"
      },
      "execution_count": 9,
      "outputs": [
        {
          "output_type": "execute_result",
          "data": {
            "text/plain": [
              "'벗꽃이 한참인 여의도 한강공원에서 입을 힘주는 사람들이 그득그득'"
            ],
            "application/vnd.google.colaboratory.intrinsic+json": {
              "type": "string"
            }
          },
          "metadata": {},
          "execution_count": 9
        }
      ]
    },
    {
      "cell_type": "code",
      "source": [
        "headlines = [\n",
        "    '벗꼿이 한참인 성수동에 년놈들이 그득그득',\n",
        "    'chatgpt4 무료 사용 개꿀',\n",
        "    '닥터우리과 함께하는 생성형 AI 재미지다'\n",
        "]"
      ],
      "metadata": {
        "id": "yuT7g-qNU5bn"
      },
      "execution_count": 10,
      "outputs": []
    },
    {
      "cell_type": "code",
      "source": [
        "for h in headlines:\n",
        "    print(refine(h))"
      ],
      "metadata": {
        "colab": {
          "base_uri": "https://localhost:8080/"
        },
        "id": "WoQDWKf1U5Yc",
        "outputId": "cadea69d-ce6c-4da2-e4a4-4c58f06cba77"
      },
      "execution_count": 11,
      "outputs": [
        {
          "output_type": "stream",
          "name": "stdout",
          "text": [
            "벗꼿이 한참인 성수동에 년놈들이 활약중\n",
            "ChatGPT4 무료 이용이 대박이에요\n",
            "닥터우리와 함께하는 생성형 AI 활용법\n"
          ]
        }
      ]
    },
    {
      "cell_type": "code",
      "source": [
        "# 리스트 컴프리헨션\n",
        "new_headlines = [refine(h) for h in headlines]\n",
        "new_headlines"
      ],
      "metadata": {
        "colab": {
          "base_uri": "https://localhost:8080/"
        },
        "id": "-E1S-5PNU5Wj",
        "outputId": "d18b3a2a-c6bf-4794-fc6b-a27a8d3a6e5d"
      },
      "execution_count": 12,
      "outputs": [
        {
          "output_type": "execute_result",
          "data": {
            "text/plain": [
              "['성수동에서 노인들의 소란이 계속된다.', 'chatgpt4 무료 이용 굿', '닥터우리와 함께하는 생성형 AI 체험이다']"
            ]
          },
          "metadata": {},
          "execution_count": 12
        }
      ]
    }
  ]
}