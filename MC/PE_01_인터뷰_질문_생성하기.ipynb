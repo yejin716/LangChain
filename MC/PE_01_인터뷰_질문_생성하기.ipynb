{
  "nbformat": 4,
  "nbformat_minor": 0,
  "metadata": {
    "colab": {
      "provenance": []
    },
    "kernelspec": {
      "name": "python3",
      "display_name": "Python 3"
    },
    "language_info": {
      "name": "python"
    }
  },
  "cells": [
    {
      "cell_type": "code",
      "execution_count": 1,
      "metadata": {
        "id": "aHM5kd4K3EBM",
        "colab": {
          "base_uri": "https://localhost:8080/"
        },
        "outputId": "3e454543-da49-458e-fd42-351d99ee0dcf"
      },
      "outputs": [
        {
          "output_type": "stream",
          "name": "stdout",
          "text": [
            "Collecting openai\n",
            "  Downloading openai-1.37.1-py3-none-any.whl.metadata (22 kB)\n",
            "Requirement already satisfied: anyio<5,>=3.5.0 in /usr/local/lib/python3.10/dist-packages (from openai) (3.7.1)\n",
            "Requirement already satisfied: distro<2,>=1.7.0 in /usr/lib/python3/dist-packages (from openai) (1.7.0)\n",
            "Collecting httpx<1,>=0.23.0 (from openai)\n",
            "  Downloading httpx-0.27.0-py3-none-any.whl.metadata (7.2 kB)\n",
            "Requirement already satisfied: pydantic<3,>=1.9.0 in /usr/local/lib/python3.10/dist-packages (from openai) (2.8.2)\n",
            "Requirement already satisfied: sniffio in /usr/local/lib/python3.10/dist-packages (from openai) (1.3.1)\n",
            "Requirement already satisfied: tqdm>4 in /usr/local/lib/python3.10/dist-packages (from openai) (4.66.4)\n",
            "Requirement already satisfied: typing-extensions<5,>=4.7 in /usr/local/lib/python3.10/dist-packages (from openai) (4.12.2)\n",
            "Requirement already satisfied: idna>=2.8 in /usr/local/lib/python3.10/dist-packages (from anyio<5,>=3.5.0->openai) (3.7)\n",
            "Requirement already satisfied: exceptiongroup in /usr/local/lib/python3.10/dist-packages (from anyio<5,>=3.5.0->openai) (1.2.2)\n",
            "Requirement already satisfied: certifi in /usr/local/lib/python3.10/dist-packages (from httpx<1,>=0.23.0->openai) (2024.7.4)\n",
            "Collecting httpcore==1.* (from httpx<1,>=0.23.0->openai)\n",
            "  Downloading httpcore-1.0.5-py3-none-any.whl.metadata (20 kB)\n",
            "Collecting h11<0.15,>=0.13 (from httpcore==1.*->httpx<1,>=0.23.0->openai)\n",
            "  Downloading h11-0.14.0-py3-none-any.whl.metadata (8.2 kB)\n",
            "Requirement already satisfied: annotated-types>=0.4.0 in /usr/local/lib/python3.10/dist-packages (from pydantic<3,>=1.9.0->openai) (0.7.0)\n",
            "Requirement already satisfied: pydantic-core==2.20.1 in /usr/local/lib/python3.10/dist-packages (from pydantic<3,>=1.9.0->openai) (2.20.1)\n",
            "Downloading openai-1.37.1-py3-none-any.whl (337 kB)\n",
            "\u001b[2K   \u001b[90m━━━━━━━━━━━━━━━━━━━━━━━━━━━━━━━━━━━━━━━━\u001b[0m \u001b[32m337.0/337.0 kB\u001b[0m \u001b[31m18.3 MB/s\u001b[0m eta \u001b[36m0:00:00\u001b[0m\n",
            "\u001b[?25hDownloading httpx-0.27.0-py3-none-any.whl (75 kB)\n",
            "\u001b[2K   \u001b[90m━━━━━━━━━━━━━━━━━━━━━━━━━━━━━━━━━━━━━━━━\u001b[0m \u001b[32m75.6/75.6 kB\u001b[0m \u001b[31m6.5 MB/s\u001b[0m eta \u001b[36m0:00:00\u001b[0m\n",
            "\u001b[?25hDownloading httpcore-1.0.5-py3-none-any.whl (77 kB)\n",
            "\u001b[2K   \u001b[90m━━━━━━━━━━━━━━━━━━━━━━━━━━━━━━━━━━━━━━━━\u001b[0m \u001b[32m77.9/77.9 kB\u001b[0m \u001b[31m6.9 MB/s\u001b[0m eta \u001b[36m0:00:00\u001b[0m\n",
            "\u001b[?25hDownloading h11-0.14.0-py3-none-any.whl (58 kB)\n",
            "\u001b[2K   \u001b[90m━━━━━━━━━━━━━━━━━━━━━━━━━━━━━━━━━━━━━━━━\u001b[0m \u001b[32m58.3/58.3 kB\u001b[0m \u001b[31m4.5 MB/s\u001b[0m eta \u001b[36m0:00:00\u001b[0m\n",
            "\u001b[?25hInstalling collected packages: h11, httpcore, httpx, openai\n",
            "Successfully installed h11-0.14.0 httpcore-1.0.5 httpx-0.27.0 openai-1.37.1\n"
          ]
        }
      ],
      "source": [
        "!pip install openai"
      ]
    },
    {
      "cell_type": "code",
      "source": [
        "from google.colab import userdata\n",
        "import os\n",
        "import openai\n",
        "\n",
        "os.environ[\"OPENAI_API_KEY\"] = userdata.get('')\n",
        "client = openai.OpenAI()"
      ],
      "metadata": {
        "id": "6zsQnjfLSQqH"
      },
      "execution_count": 2,
      "outputs": []
    },
    {
      "cell_type": "code",
      "source": [
        "from string import Template\n",
        "# 문자열 탬플릿 >> 동적으로 문자열 생성 가능"
      ],
      "metadata": {
        "id": "1xk5kiU2SRKT"
      },
      "execution_count": 3,
      "outputs": []
    },
    {
      "cell_type": "code",
      "source": [
        "system_prompt = \"\"\"\n",
        "당신은 면접 전문가입니다.\n",
        "채용 지원자가 원하는 직무에 적합한지 가장 확실하게 판단할 수 있는 질문을 작성해야합니다.\n",
        "\n",
        "다음은 \"Research Scientist/Engineer - LLM 기반 대화형 AI 기술 개발\"의 채용 공고입니다.\n",
        "\n",
        "--- 공고 내용 시작 ---\n",
        "팀 소개\n",
        "\n",
        "Language Lab은 자연어 처리 분야의 기술적 난제 해결을 위한 핵심 선행기술을 연구하며 Learning-by-Reading AI 확보를 통한 챗봇 등 Language 분야 서비스 혁신 이라는 비전을 가지고 있습니다.\n",
        "\n",
        "\n",
        "수행 업무\n",
        "\n",
        "LLM 기반 대화형 AI 기능별 모델 Instruction Tuning 수행 및 최적화\n",
        "LLM 기반 대화형 AI의 아키텍쳐 설계, Inference 최적화, Service Orchestration 개발\n",
        "RAG 기술 고도화 및 대화형 AI 적용\n",
        "\n",
        "지원자격\n",
        "\n",
        "LLM 기술 및 서비스 개발 경력 및 우수 역량 보유자\n",
        "Deep Learning, Machine Learning 알고리즘 연구/개발 경험\n",
        "대화형 챗봇, 대규모 검색 서비스 설계 및 개발 경력\n",
        "Tensorflow, PyTorch, JAX 등 Machine Learning Framework 활용 경험\n",
        "Python 등 프로그래밍 언어 경험\n",
        "\n",
        "전공\n",
        "\n",
        "석사 후 3년이상 경력자, 박사 졸업 예정자 및 기 졸업자\n",
        "\n",
        "전형절차\n",
        "\n",
        "서류심사 → 코딩테스트 → 1차 직무 인터뷰(온라인) → LG AI Fit Check (온라인) → 최종 인터뷰(온사이트)\n",
        "* 전형 절차는 변경될 수 있습니다. 서류 합격 시 전형 절차에 대해 별도로 안내 해 드립니다.\n",
        "\n",
        "현재 LG AI연구원은 병역지정업체가 아님으로, 전문연구요원 채용 및 전직이 불가함을 알려드립니다.\n",
        "--- 공고 내용 끝 ---\n",
        "\"\"\""
      ],
      "metadata": {
        "id": "dl1DRcNwSRHY"
      },
      "execution_count": 4,
      "outputs": []
    },
    {
      "cell_type": "code",
      "source": [
        "prompt = \"\"\"\n",
        "이 직업에 대한 예상 면접 질문을 적어주세요.\n",
        "\n",
        "\"하드스킬\"과 \"소프트스킬 및 리더십\" 에 대한 두 개의 섹션을 작성해 주세요.\n",
        "각 섹션에 번호가 매겨진 목록으로 5개 항목을 작성해 주세요.\n",
        "\"\"\""
      ],
      "metadata": {
        "id": "zxNXgwngSRAh"
      },
      "execution_count": 5,
      "outputs": []
    },
    {
      "cell_type": "code",
      "source": [
        "completion = client.chat.completions.create(\n",
        "    model = 'gpt-3.5-turbo',\n",
        "    messages = [\n",
        "        {\"role\" : \"system\", \"content\" : system_prompt},\n",
        "        {\"role\" : \"user\", \"content\" : prompt}\n",
        "    ],\n",
        "    max_tokens = 1024,\n",
        "    temperature = 0\n",
        ")"
      ],
      "metadata": {
        "id": "hPO3Y7z3Sxji"
      },
      "execution_count": 6,
      "outputs": []
    },
    {
      "cell_type": "code",
      "source": [
        "completion"
      ],
      "metadata": {
        "colab": {
          "base_uri": "https://localhost:8080/"
        },
        "id": "nmCVRYKbSxhk",
        "outputId": "1242d468-a1f0-43c7-892c-2602d53eb9c1"
      },
      "execution_count": 7,
      "outputs": [
        {
          "output_type": "execute_result",
          "data": {
            "text/plain": [
              "ChatCompletion(id='chatcmpl-9qryhTptCa9B7yWp8cZ6bM9GVkhZK', choices=[Choice(finish_reason='stop', index=0, logprobs=None, message=ChatCompletionMessage(content='**하드스킬:**\\n\\n1. LLM 기반 대화형 AI 기술에 대한 경험과 이해를 어떻게 쌓아왔는지 설명해 주세요.\\n2. Machine Learning Framework인 Tensorflow, PyTorch, JAX 등을 활용한 프로젝트 경험에 대해 이야기해 주세요.\\n3. 대화형 챗봇 및 검색 서비스 설계 및 개발 경험 중 특히 도전적이었던 부분과 해결 과정을 공유해 주세요.\\n4. Instruction Tuning 및 아키텍처 설계, Inference 최적화에 대한 역량을 어떻게 발전시키고 있는지 설명해 주세요.\\n5. Deep Learning 및 Machine Learning 알고리즘에 대한 연구/개발 경험 중 가장 성취감을 느낀 프로젝트는 무엇이었나요?\\n\\n**소프트스킬 및 리더십:**\\n\\n1. 팀 내 협업 경험 중에서 가장 성공적이었던 사례를 공유하고, 그 과정에서 발생한 어려움과 극복한 방법에 대해 설명해 주세요.\\n2. 프로젝트나 업무에서 발생한 갈등 상황을 해결한 경험에 대해 이야기해 주세요.\\n3. 새로운 기술이나 도전적인 과제에 대한 학습 및 적용 능력을 보여줄 수 있는 경험을 공유해 주세요.\\n4. 팀 내에서 리더십을 발휘한 경험이 있다면, 그 때의 역할과 결과에 대해 설명해 주세요.\\n5. 자신의 업무나 프로젝트를 효율적으로 관리하기 위해 사용하는 방법이 있을까요? 관리 및 조직 능력에 대해 이야기해 주세요.', role='assistant', function_call=None, tool_calls=None))], created=1722387575, model='gpt-3.5-turbo-0125', object='chat.completion', service_tier=None, system_fingerprint=None, usage=CompletionUsage(completion_tokens=553, prompt_tokens=741, total_tokens=1294))"
            ]
          },
          "metadata": {},
          "execution_count": 7
        }
      ]
    },
    {
      "cell_type": "code",
      "source": [
        "completion.choices[0].message.content"
      ],
      "metadata": {
        "colab": {
          "base_uri": "https://localhost:8080/",
          "height": 145
        },
        "id": "vXn9SWI8Sxf2",
        "outputId": "72f97c89-9551-4f8d-f060-59553474c953"
      },
      "execution_count": 8,
      "outputs": [
        {
          "output_type": "execute_result",
          "data": {
            "text/plain": [
              "'**하드스킬:**\\n\\n1. LLM 기반 대화형 AI 기술에 대한 경험과 이해를 어떻게 쌓아왔는지 설명해 주세요.\\n2. Machine Learning Framework인 Tensorflow, PyTorch, JAX 등을 활용한 프로젝트 경험에 대해 이야기해 주세요.\\n3. 대화형 챗봇 및 검색 서비스 설계 및 개발 경험 중 특히 도전적이었던 부분과 해결 과정을 공유해 주세요.\\n4. Instruction Tuning 및 아키텍처 설계, Inference 최적화에 대한 역량을 어떻게 발전시키고 있는지 설명해 주세요.\\n5. Deep Learning 및 Machine Learning 알고리즘에 대한 연구/개발 경험 중 가장 성취감을 느낀 프로젝트는 무엇이었나요?\\n\\n**소프트스킬 및 리더십:**\\n\\n1. 팀 내 협업 경험 중에서 가장 성공적이었던 사례를 공유하고, 그 과정에서 발생한 어려움과 극복한 방법에 대해 설명해 주세요.\\n2. 프로젝트나 업무에서 발생한 갈등 상황을 해결한 경험에 대해 이야기해 주세요.\\n3. 새로운 기술이나 도전적인 과제에 대한 학습 및 적용 능력을 보여줄 수 있는 경험을 공유해 주세요.\\n4. 팀 내에서 리더십을 발휘한 경험이 있다면, 그 때의 역할과 결과에 대해 설명해 주세요.\\n5. 자신의 업무나 프로젝트를 효율적으로 관리하기 위해 사용하는 방법이 있을까요? 관리 및 조직 능력에 대해 이야기해 주세요.'"
            ],
            "application/vnd.google.colaboratory.intrinsic+json": {
              "type": "string"
            }
          },
          "metadata": {},
          "execution_count": 8
        }
      ]
    },
    {
      "cell_type": "code",
      "source": [
        "print(completion.choices[0].message.content)"
      ],
      "metadata": {
        "colab": {
          "base_uri": "https://localhost:8080/"
        },
        "id": "852PZPfFUB7x",
        "outputId": "9aa0cf6b-3a86-422c-ae8a-b571bdbb5cdc"
      },
      "execution_count": 9,
      "outputs": [
        {
          "output_type": "stream",
          "name": "stdout",
          "text": [
            "**하드스킬:**\n",
            "\n",
            "1. LLM 기반 대화형 AI 기술에 대한 경험과 이해를 어떻게 쌓아왔는지 설명해 주세요.\n",
            "2. Machine Learning Framework인 Tensorflow, PyTorch, JAX 등을 활용한 프로젝트 경험에 대해 이야기해 주세요.\n",
            "3. 대화형 챗봇 및 검색 서비스 설계 및 개발 경험 중 특히 도전적이었던 부분과 해결 과정을 공유해 주세요.\n",
            "4. Instruction Tuning 및 아키텍처 설계, Inference 최적화에 대한 역량을 어떻게 발전시키고 있는지 설명해 주세요.\n",
            "5. Deep Learning 및 Machine Learning 알고리즘에 대한 연구/개발 경험 중 가장 성취감을 느낀 프로젝트는 무엇이었나요?\n",
            "\n",
            "**소프트스킬 및 리더십:**\n",
            "\n",
            "1. 팀 내 협업 경험 중에서 가장 성공적이었던 사례를 공유하고, 그 과정에서 발생한 어려움과 극복한 방법에 대해 설명해 주세요.\n",
            "2. 프로젝트나 업무에서 발생한 갈등 상황을 해결한 경험에 대해 이야기해 주세요.\n",
            "3. 새로운 기술이나 도전적인 과제에 대한 학습 및 적용 능력을 보여줄 수 있는 경험을 공유해 주세요.\n",
            "4. 팀 내에서 리더십을 발휘한 경험이 있다면, 그 때의 역할과 결과에 대해 설명해 주세요.\n",
            "5. 자신의 업무나 프로젝트를 효율적으로 관리하기 위해 사용하는 방법이 있을까요? 관리 및 조직 능력에 대해 이야기해 주세요.\n"
          ]
        }
      ]
    }
  ]
}