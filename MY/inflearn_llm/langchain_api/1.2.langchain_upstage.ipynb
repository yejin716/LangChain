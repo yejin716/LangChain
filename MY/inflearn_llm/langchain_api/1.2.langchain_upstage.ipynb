{
 "cells": [
  {
   "cell_type": "code",
   "execution_count": 1,
   "metadata": {},
   "outputs": [
    {
     "name": "stdout",
     "output_type": "stream",
     "text": [
      "Collecting langchain-upstage\n",
      "  Downloading langchain_upstage-0.1.8-py3-none-any.whl.metadata (3.4 kB)\n",
      "Requirement already satisfied: python-dotenv in d:\\anaconda\\envs\\condatest\\lib\\site-packages (1.0.1)\n",
      "Requirement already satisfied: langchain-core<0.3,>=0.2.2 in d:\\anaconda\\envs\\condatest\\lib\\site-packages (from langchain-upstage) (0.2.37)\n",
      "Requirement already satisfied: langchain-openai<0.2.0,>=0.1.3 in d:\\anaconda\\envs\\condatest\\lib\\site-packages (from langchain-upstage) (0.1.23)\n",
      "Requirement already satisfied: pydantic<3.0.0,>=2.8.0 in d:\\anaconda\\envs\\condatest\\lib\\site-packages (from langchain-upstage) (2.8.2)\n",
      "Collecting pypdf<5.0.0,>=4.2.0 (from langchain-upstage)\n",
      "  Downloading pypdf-4.3.1-py3-none-any.whl.metadata (7.4 kB)\n",
      "Requirement already satisfied: requests<3.0.0,>=2.31.0 in d:\\anaconda\\envs\\condatest\\lib\\site-packages (from langchain-upstage) (2.32.3)\n",
      "Collecting tokenizers<0.20.0,>=0.19.1 (from langchain-upstage)\n",
      "  Using cached tokenizers-0.19.1-cp310-none-win_amd64.whl.metadata (6.9 kB)\n",
      "Requirement already satisfied: PyYAML>=5.3 in d:\\anaconda\\envs\\condatest\\lib\\site-packages (from langchain-core<0.3,>=0.2.2->langchain-upstage) (6.0.2)\n",
      "Requirement already satisfied: jsonpatch<2.0,>=1.33 in d:\\anaconda\\envs\\condatest\\lib\\site-packages (from langchain-core<0.3,>=0.2.2->langchain-upstage) (1.33)\n",
      "Requirement already satisfied: langsmith<0.2.0,>=0.1.75 in d:\\anaconda\\envs\\condatest\\lib\\site-packages (from langchain-core<0.3,>=0.2.2->langchain-upstage) (0.1.108)\n",
      "Requirement already satisfied: packaging<25,>=23.2 in d:\\anaconda\\envs\\condatest\\lib\\site-packages (from langchain-core<0.3,>=0.2.2->langchain-upstage) (24.1)\n",
      "Requirement already satisfied: tenacity!=8.4.0,<9.0.0,>=8.1.0 in d:\\anaconda\\envs\\condatest\\lib\\site-packages (from langchain-core<0.3,>=0.2.2->langchain-upstage) (8.5.0)\n",
      "Requirement already satisfied: typing-extensions>=4.7 in c:\\users\\master\\appdata\\roaming\\python\\python310\\site-packages (from langchain-core<0.3,>=0.2.2->langchain-upstage) (4.11.0)\n",
      "Requirement already satisfied: openai<2.0.0,>=1.40.0 in d:\\anaconda\\envs\\condatest\\lib\\site-packages (from langchain-openai<0.2.0,>=0.1.3->langchain-upstage) (1.43.0)\n",
      "Requirement already satisfied: tiktoken<1,>=0.7 in d:\\anaconda\\envs\\condatest\\lib\\site-packages (from langchain-openai<0.2.0,>=0.1.3->langchain-upstage) (0.7.0)\n",
      "Requirement already satisfied: annotated-types>=0.4.0 in d:\\anaconda\\envs\\condatest\\lib\\site-packages (from pydantic<3.0.0,>=2.8.0->langchain-upstage) (0.7.0)\n",
      "Requirement already satisfied: pydantic-core==2.20.1 in d:\\anaconda\\envs\\condatest\\lib\\site-packages (from pydantic<3.0.0,>=2.8.0->langchain-upstage) (2.20.1)\n",
      "Requirement already satisfied: charset-normalizer<4,>=2 in d:\\anaconda\\envs\\condatest\\lib\\site-packages (from requests<3.0.0,>=2.31.0->langchain-upstage) (3.3.2)\n",
      "Requirement already satisfied: idna<4,>=2.5 in d:\\anaconda\\envs\\condatest\\lib\\site-packages (from requests<3.0.0,>=2.31.0->langchain-upstage) (3.8)\n",
      "Requirement already satisfied: urllib3<3,>=1.21.1 in d:\\anaconda\\envs\\condatest\\lib\\site-packages (from requests<3.0.0,>=2.31.0->langchain-upstage) (2.2.2)\n",
      "Requirement already satisfied: certifi>=2017.4.17 in d:\\anaconda\\envs\\condatest\\lib\\site-packages (from requests<3.0.0,>=2.31.0->langchain-upstage) (2024.8.30)\n",
      "Collecting huggingface-hub<1.0,>=0.16.4 (from tokenizers<0.20.0,>=0.19.1->langchain-upstage)\n",
      "  Using cached huggingface_hub-0.24.6-py3-none-any.whl.metadata (13 kB)\n",
      "Collecting filelock (from huggingface-hub<1.0,>=0.16.4->tokenizers<0.20.0,>=0.19.1->langchain-upstage)\n",
      "  Using cached filelock-3.15.4-py3-none-any.whl.metadata (2.9 kB)\n",
      "Collecting fsspec>=2023.5.0 (from huggingface-hub<1.0,>=0.16.4->tokenizers<0.20.0,>=0.19.1->langchain-upstage)\n",
      "  Using cached fsspec-2024.6.1-py3-none-any.whl.metadata (11 kB)\n",
      "Requirement already satisfied: tqdm>=4.42.1 in d:\\anaconda\\envs\\condatest\\lib\\site-packages (from huggingface-hub<1.0,>=0.16.4->tokenizers<0.20.0,>=0.19.1->langchain-upstage) (4.66.5)\n",
      "Requirement already satisfied: jsonpointer>=1.9 in d:\\anaconda\\envs\\condatest\\lib\\site-packages (from jsonpatch<2.0,>=1.33->langchain-core<0.3,>=0.2.2->langchain-upstage) (3.0.0)\n",
      "Requirement already satisfied: httpx<1,>=0.23.0 in d:\\anaconda\\envs\\condatest\\lib\\site-packages (from langsmith<0.2.0,>=0.1.75->langchain-core<0.3,>=0.2.2->langchain-upstage) (0.27.2)\n",
      "Requirement already satisfied: orjson<4.0.0,>=3.9.14 in d:\\anaconda\\envs\\condatest\\lib\\site-packages (from langsmith<0.2.0,>=0.1.75->langchain-core<0.3,>=0.2.2->langchain-upstage) (3.10.7)\n",
      "Requirement already satisfied: anyio<5,>=3.5.0 in d:\\anaconda\\envs\\condatest\\lib\\site-packages (from openai<2.0.0,>=1.40.0->langchain-openai<0.2.0,>=0.1.3->langchain-upstage) (4.4.0)\n",
      "Requirement already satisfied: distro<2,>=1.7.0 in d:\\anaconda\\envs\\condatest\\lib\\site-packages (from openai<2.0.0,>=1.40.0->langchain-openai<0.2.0,>=0.1.3->langchain-upstage) (1.9.0)\n",
      "Requirement already satisfied: jiter<1,>=0.4.0 in d:\\anaconda\\envs\\condatest\\lib\\site-packages (from openai<2.0.0,>=1.40.0->langchain-openai<0.2.0,>=0.1.3->langchain-upstage) (0.5.0)\n",
      "Requirement already satisfied: sniffio in d:\\anaconda\\envs\\condatest\\lib\\site-packages (from openai<2.0.0,>=1.40.0->langchain-openai<0.2.0,>=0.1.3->langchain-upstage) (1.3.1)\n",
      "Requirement already satisfied: regex>=2022.1.18 in d:\\anaconda\\envs\\condatest\\lib\\site-packages (from tiktoken<1,>=0.7->langchain-openai<0.2.0,>=0.1.3->langchain-upstage) (2024.7.24)\n",
      "Requirement already satisfied: exceptiongroup>=1.0.2 in d:\\anaconda\\envs\\condatest\\lib\\site-packages (from anyio<5,>=3.5.0->openai<2.0.0,>=1.40.0->langchain-openai<0.2.0,>=0.1.3->langchain-upstage) (1.2.2)\n",
      "Requirement already satisfied: httpcore==1.* in d:\\anaconda\\envs\\condatest\\lib\\site-packages (from httpx<1,>=0.23.0->langsmith<0.2.0,>=0.1.75->langchain-core<0.3,>=0.2.2->langchain-upstage) (1.0.5)\n",
      "Requirement already satisfied: h11<0.15,>=0.13 in d:\\anaconda\\envs\\condatest\\lib\\site-packages (from httpcore==1.*->httpx<1,>=0.23.0->langsmith<0.2.0,>=0.1.75->langchain-core<0.3,>=0.2.2->langchain-upstage) (0.14.0)\n",
      "Requirement already satisfied: colorama in c:\\users\\master\\appdata\\roaming\\python\\python310\\site-packages (from tqdm>=4.42.1->huggingface-hub<1.0,>=0.16.4->tokenizers<0.20.0,>=0.19.1->langchain-upstage) (0.4.6)\n",
      "Downloading langchain_upstage-0.1.8-py3-none-any.whl (19 kB)\n",
      "Downloading pypdf-4.3.1-py3-none-any.whl (295 kB)\n",
      "Using cached tokenizers-0.19.1-cp310-none-win_amd64.whl (2.2 MB)\n",
      "Using cached huggingface_hub-0.24.6-py3-none-any.whl (417 kB)\n",
      "Using cached fsspec-2024.6.1-py3-none-any.whl (177 kB)\n",
      "Using cached filelock-3.15.4-py3-none-any.whl (16 kB)\n",
      "Installing collected packages: pypdf, fsspec, filelock, huggingface-hub, tokenizers, langchain-upstage\n",
      "Successfully installed filelock-3.15.4 fsspec-2024.6.1 huggingface-hub-0.24.6 langchain-upstage-0.1.8 pypdf-4.3.1 tokenizers-0.19.1\n",
      "Note: you may need to restart the kernel to use updated packages.\n"
     ]
    }
   ],
   "source": [
    "%pip install langchain-upstage python-dotenv"
   ]
  },
  {
   "cell_type": "code",
   "execution_count": 2,
   "metadata": {},
   "outputs": [
    {
     "data": {
      "text/plain": [
       "True"
      ]
     },
     "execution_count": 2,
     "metadata": {},
     "output_type": "execute_result"
    }
   ],
   "source": [
    "from dotenv import load_dotenv \n",
    "load_dotenv()"
   ]
  },
  {
   "cell_type": "code",
   "execution_count": 3,
   "metadata": {},
   "outputs": [],
   "source": [
    "#upstage api_key \n",
    "from langchain_upstage import ChatUpstage\n",
    "\n",
    "llm = ChatUpstage()"
   ]
  },
  {
   "cell_type": "code",
   "execution_count": 4,
   "metadata": {},
   "outputs": [],
   "source": [
    "ai_message = llm.invoke(\"인프런에 어떤 강의가 있나요?\")"
   ]
  },
  {
   "cell_type": "code",
   "execution_count": 5,
   "metadata": {},
   "outputs": [
    {
     "data": {
      "text/plain": [
       "'인프런에서는 다양한 분야의 강의를 제공하고 있습니다. 몇 가지 예시를 들어보면 다음과 같습니다:\\n\\n1. 프로그래밍: 파이썬, 자바, C++, 자바스크립트 등 다양한 프로그래밍 언어와 관련된 강의를 제공합니다.\\n2. 데이터 분석: 데이터 분석, 머신러닝, 데이터 시각화 등 데이터와 관련된 다양한 주제의 강의를 제공합니다.\\n3. 웹 개발: HTML, CSS, JavaScript, React, Node.js 등 웹 개발과 관련된 다양한 주제의 강의를 제공합니다.\\n4. 클라우드 컴퓨팅: AWS, Azure, Google Cloud 등 클라우드 컴퓨팅 플랫폼과 관련된 강의를 제공합니다.\\n5. 비즈니스: 마케팅, 경영, 커뮤니케이션 등 비즈니스와 관련된 다양한 주제의 강의를 제공합니다.\\n6. 디자인: 그래픽 디자인, 웹 디자인, UI/UX 디자인 등 디자인과 관련된 다양한 주제의 강의를 제공합니다.\\n7. 라이프: 건강, 요리, 여행 등 라이프 스타일과 관련된 다양한 주제의 강의를 제공합니다.\\n\\n이 외에도 다양한 분야의 강의가 있으니, 인프런 홈페이지에서 자세한 정보를 확인해보시기 바랍니다.'"
      ]
     },
     "execution_count": 5,
     "metadata": {},
     "output_type": "execute_result"
    }
   ],
   "source": [
    "#내용만 볼려면 \n",
    "ai_message.content"
   ]
  },
  {
   "cell_type": "code",
   "execution_count": null,
   "metadata": {},
   "outputs": [],
   "source": []
  }
 ],
 "metadata": {
  "kernelspec": {
   "display_name": "condatest",
   "language": "python",
   "name": "python3"
  },
  "language_info": {
   "codemirror_mode": {
    "name": "ipython",
    "version": 3
   },
   "file_extension": ".py",
   "mimetype": "text/x-python",
   "name": "python",
   "nbconvert_exporter": "python",
   "pygments_lexer": "ipython3",
   "version": "3.10.14"
  }
 },
 "nbformat": 4,
 "nbformat_minor": 2
}
